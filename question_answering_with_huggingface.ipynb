{
  "nbformat": 4,
  "nbformat_minor": 0,
  "metadata": {
    "colab": {
      "name": "question_answering_with_huggingface.ipynb",
      "provenance": [],
      "authorship_tag": "ABX9TyP6ITYsenZYt4AbdUQCWM2Z",
      "include_colab_link": true
    },
    "kernelspec": {
      "name": "python3",
      "display_name": "Python 3"
    }
  },
  "cells": [
    {
      "cell_type": "markdown",
      "metadata": {
        "id": "view-in-github",
        "colab_type": "text"
      },
      "source": [
        "<a href=\"https://colab.research.google.com/github/rezaafra/question-answering/blob/master/question_answering_with_huggingface.ipynb\" target=\"_parent\"><img src=\"https://colab.research.google.com/assets/colab-badge.svg\" alt=\"Open In Colab\"/></a>"
      ]
    },
    {
      "cell_type": "markdown",
      "metadata": {
        "id": "0SIbZHYYFjFC"
      },
      "source": [
        "https://huggingface.co/transformers/task_summary.html"
      ]
    },
    {
      "cell_type": "code",
      "metadata": {
        "id": "N69ANBjJAtUN"
      },
      "source": [
        "!pip install -q transformers"
      ],
      "execution_count": null,
      "outputs": []
    },
    {
      "cell_type": "code",
      "metadata": {
        "id": "ap8_NQcvAXrE"
      },
      "source": [
        "from transformers import AutoTokenizer, AutoModelForQuestionAnswering"
      ],
      "execution_count": null,
      "outputs": []
    },
    {
      "cell_type": "code",
      "metadata": {
        "id": "CeWsB6adApk7"
      },
      "source": [
        "import torch"
      ],
      "execution_count": null,
      "outputs": []
    },
    {
      "cell_type": "code",
      "metadata": {
        "id": "-yGHt5OEA8RF"
      },
      "source": [
        "tokenizer = AutoTokenizer.from_pretrained(\"bert-large-uncased-whole-word-masking-finetuned-squad\")"
      ],
      "execution_count": null,
      "outputs": []
    },
    {
      "cell_type": "code",
      "metadata": {
        "id": "ToN0NogYBANw"
      },
      "source": [
        "model = AutoModelForQuestionAnswering.from_pretrained(\"bert-large-uncased-whole-word-masking-finetuned-squad\", return_dict=True)"
      ],
      "execution_count": null,
      "outputs": []
    },
    {
      "cell_type": "code",
      "metadata": {
        "id": "qZKtqsrwBHtc"
      },
      "source": [
        "text = r\"\"\"🤗 Transformers (formerly known as pytorch-transformers and pytorch-pretrained-bert) provides general-purpose\n",
        "architectures (BERT, GPT-2, RoBERTa, XLM, DistilBert, XLNet…) for Natural Language Understanding (NLU) and Natural\n",
        "Language Generation (NLG) with over 32+ pretrained models in 100+ languages and deep interoperability between\n",
        "TensorFlow 2.0 and PyTorch.\n",
        "\"\"\""
      ],
      "execution_count": null,
      "outputs": []
    },
    {
      "cell_type": "code",
      "metadata": {
        "id": "Q-hgakaPBvOc"
      },
      "source": [
        "questions = [\"How many pretrained models are available in 🤗 Transformers?\",\n",
        "\"What does 🤗 Transformers provide?\",\n",
        "\"🤗 Transformers provides interoperability between which frameworks?\"]"
      ],
      "execution_count": null,
      "outputs": []
    },
    {
      "cell_type": "code",
      "metadata": {
        "colab": {
          "base_uri": "https://localhost:8080/"
        },
        "id": "IHPBfRaQB9yW",
        "outputId": "dc1bad27-e127-42fe-c78d-0db0552a2f1e"
      },
      "source": [
        "for question in questions:\n",
        "  inputs = tokenizer(question, text, add_special_tokens=True, return_tensors=\"pt\")\n",
        "  input_ids = inputs[\"input_ids\"].tolist()[0] # the list of all indices of words in question + context\n",
        "\n",
        "  text_tokens = tokenizer.convert_ids_to_tokens(input_ids) # Get the tokens for the question + context\n",
        "  answer_start_scores, answer_end_scores = model(**inputs).values()\n",
        "\n",
        "  answer_start = torch.argmax(answer_start_scores)  # Get the most likely beginning of answer with the argmax of the score\n",
        "  answer_end = torch.argmax(answer_end_scores) + 1  # Get the most likely end of answer with the argmax of the score\n",
        "\n",
        "  answer = tokenizer.convert_tokens_to_string(tokenizer.convert_ids_to_tokens(input_ids[answer_start:answer_end]))\n",
        "\n",
        "  print(f\"Question: {question}\")\n",
        "  print(f\"Answer: {answer}\")"
      ],
      "execution_count": null,
      "outputs": [
        {
          "output_type": "stream",
          "text": [
            "Question: How many pretrained models are available in 🤗 Transformers?\n",
            "Answer: over 32 +\n",
            "Question: What does 🤗 Transformers provide?\n",
            "Answer: general - purpose architectures\n",
            "Question: 🤗 Transformers provides interoperability between which frameworks?\n",
            "Answer: tensorflow 2 . 0 and pytorch\n"
          ],
          "name": "stdout"
        }
      ]
    }
  ]
}